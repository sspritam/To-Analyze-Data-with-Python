{
 "cells": [
  {
   "cell_type": "code",
   "execution_count": 3,
   "id": "a52bc12f-4b1b-4751-8198-7b6ce3bc4f13",
   "metadata": {},
   "outputs": [
    {
     "name": "stdout",
     "output_type": "stream",
     "text": [
      "[1 2 3 4 5]\n"
     ]
    }
   ],
   "source": [
    "#1 creating arrays from list or tuples\n",
    "import numpy as np\n",
    "arr1 = np.array([1, 2, 3, 4, 5])\n",
    "print(arr1)"
   ]
  },
  {
   "cell_type": "code",
   "execution_count": 9,
   "id": "eea14595-2c03-4ee1-936c-fb0c85e80ce6",
   "metadata": {},
   "outputs": [
    {
     "name": "stdout",
     "output_type": "stream",
     "text": [
      "[0. 0. 0. 0. 0.]\n",
      "[[0. 0. 0. 0.]\n",
      " [0. 0. 0. 0.]\n",
      " [0. 0. 0. 0.]]\n"
     ]
    }
   ],
   "source": [
    "#using numpy.zeros()\n",
    "arr_zeros = np.zeros(5)\n",
    "print(arr_zeros)\n",
    "arr_zeros_2d = np.zeros((3, 4))\n",
    "print(arr_zeros_2d)"
   ]
  },
  {
   "cell_type": "code",
   "execution_count": 11,
   "id": "7c9cae61-4ae9-4d8e-b122-86fb5caf0db9",
   "metadata": {},
   "outputs": [
    {
     "name": "stdout",
     "output_type": "stream",
     "text": [
      "[1. 1. 1. 1. 1.]\n",
      "[[1. 1. 1. 1.]\n",
      " [1. 1. 1. 1.]\n",
      " [1. 1. 1. 1.]]\n"
     ]
    }
   ],
   "source": [
    "#using numpy.ones()\n",
    "arr_ones = np.ones(5)\n",
    "print(arr_ones)\n",
    "arr_ones_2d = np.ones((3, 4))\n",
    "print(arr_ones_2d)"
   ]
  },
  {
   "cell_type": "code",
   "execution_count": 13,
   "id": "cf5659ee-f2fa-4812-8a10-588ec365b4c8",
   "metadata": {},
   "outputs": [
    {
     "name": "stdout",
     "output_type": "stream",
     "text": [
      "[7 7 7 7 7]\n",
      "[[9 9 9]\n",
      " [9 9 9]\n",
      " [9 9 9]]\n"
     ]
    }
   ],
   "source": [
    "#using numpy.full()\n",
    "arr_full = np.full(5, 7)\n",
    "print(arr_full)\n",
    "arr_full_2d = np.full((3, 3), 9)\n",
    "print(arr_full_2d)"
   ]
  },
  {
   "cell_type": "code",
   "execution_count": 15,
   "id": "d995db42-dcdc-4b8e-acee-64461c920775",
   "metadata": {},
   "outputs": [
    {
     "name": "stdout",
     "output_type": "stream",
     "text": [
      "[0 1 2 3 4 5 6 7 8 9]\n",
      "[0 2 4 6 8]\n"
     ]
    }
   ],
   "source": [
    "#using numpy.arrange()\n",
    "arr_arange = np.arange(10)\n",
    "print(arr_arange)\n",
    "arr_arange_step = np.arange(0, 10, 2)\n",
    "print(arr_arange_step)"
   ]
  },
  {
   "cell_type": "code",
   "execution_count": 17,
   "id": "cd3dfc58-1e06-432e-b81b-34fc173b7208",
   "metadata": {},
   "outputs": [
    {
     "name": "stdout",
     "output_type": "stream",
     "text": [
      "[0.   0.25 0.5  0.75 1.  ]\n"
     ]
    }
   ],
   "source": [
    "#using numpy.linspace()\n",
    "arr_linspace = np.linspace(0, 1, 5)\n",
    "print(arr_linspace)"
   ]
  },
  {
   "cell_type": "code",
   "execution_count": 19,
   "id": "9f1ea236-21a9-41d4-aa60-cfff6cf6f5ae",
   "metadata": {},
   "outputs": [
    {
     "name": "stdout",
     "output_type": "stream",
     "text": [
      "[7 8 0 5 2]\n"
     ]
    }
   ],
   "source": [
    "#using numpy.random functions\n",
    "arr_rand_int = np.random.randint(0, 10, size=5)\n",
    "print(arr_rand_int)"
   ]
  },
  {
   "cell_type": "code",
   "execution_count": 21,
   "id": "65fa8dff-66d6-4656-927a-6d59b4e1e02d",
   "metadata": {},
   "outputs": [
    {
     "name": "stdout",
     "output_type": "stream",
     "text": [
      "[[0.61235294 0.92499004 0.97643824 0.42112038]\n",
      " [0.92656636 0.45324716 0.8673575  0.25985903]\n",
      " [0.7086854  0.1634539  0.37272108 0.96940143]]\n"
     ]
    }
   ],
   "source": [
    "#random floats(uniform distribution)\n",
    "arr_rand_float = np.random.rand(3, 4)\n",
    "print(arr_rand_float)"
   ]
  },
  {
   "cell_type": "code",
   "execution_count": 23,
   "id": "206c0e62-3351-4eb4-a6f9-af345ad1012f",
   "metadata": {},
   "outputs": [
    {
     "name": "stdout",
     "output_type": "stream",
     "text": [
      "[[-1.67455338 -0.71843714 -0.05084553  0.16172005]\n",
      " [-1.16350732  1.50378196 -1.18740274  0.00776433]\n",
      " [-0.44298556  1.13474186 -3.05646655  1.09242192]]\n"
     ]
    }
   ],
   "source": [
    "#random floats(normal distribution)\n",
    "arr_rand_normal = np.random.randn(3, 4)\n",
    "print(arr_rand_normal)"
   ]
  },
  {
   "cell_type": "code",
   "execution_count": 25,
   "id": "b7d8dff1-86fd-41cb-a11d-2719920c356b",
   "metadata": {},
   "outputs": [
    {
     "name": "stdout",
     "output_type": "stream",
     "text": [
      "[[1. 0. 0.]\n",
      " [0. 1. 0.]\n",
      " [0. 0. 1.]]\n"
     ]
    }
   ],
   "source": [
    "#using numpy.identity()\n",
    "arr_identity = np.identity(3)\n",
    "print(arr_identity)"
   ]
  },
  {
   "cell_type": "code",
   "execution_count": 29,
   "id": "2e79ab16-d8ad-4e69-9493-fc22205d2c83",
   "metadata": {},
   "outputs": [
    {
     "name": "stdout",
     "output_type": "stream",
     "text": [
      "[1 2 3]\n"
     ]
    }
   ],
   "source": [
    "#using numpy.copy()\n",
    "arr_copy = np.array([1, 2, 3])\n",
    "arr_copy2 = np.copy(arr_copy)\n",
    "print(arr_copy2)"
   ]
  },
  {
   "cell_type": "code",
   "execution_count": 31,
   "id": "57681e3e-d541-4402-bac7-1f67856e0c77",
   "metadata": {},
   "outputs": [
    {
     "name": "stdout",
     "output_type": "stream",
     "text": [
      "[[ 0  1  2  3]\n",
      " [ 4  5  6  7]\n",
      " [ 8  9 10 11]]\n"
     ]
    }
   ],
   "source": [
    "#2 manipulating arrays\n",
    "#reshaping arrays\n",
    "import numpy as np\n",
    "arr = np.arange(12)\n",
    "reshaped_arr = arr.reshape(3, 4)\n",
    "print(reshaped_arr)"
   ]
  },
  {
   "cell_type": "code",
   "execution_count": 33,
   "id": "666826fe-7500-4f59-b176-f61ad979d5ec",
   "metadata": {},
   "outputs": [
    {
     "name": "stdout",
     "output_type": "stream",
     "text": [
      "[1 2 3 4]\n",
      "[1 2 3 4]\n"
     ]
    }
   ],
   "source": [
    "#Flattening arrays\n",
    "arr_2d = np.array([[1, 2], [3, 4]])\n",
    "flattened_arr = arr_2d.flatten()\n",
    "print(flattened_arr)\n",
    "ravelled_arr = arr_2d.ravel()\n",
    "print(ravelled_arr)"
   ]
  },
  {
   "cell_type": "code",
   "execution_count": 35,
   "id": "dd8c448b-dd54-4551-90ff-e94bb6acce8b",
   "metadata": {},
   "outputs": [
    {
     "name": "stdout",
     "output_type": "stream",
     "text": [
      "[[1 3]\n",
      " [2 4]]\n"
     ]
    }
   ],
   "source": [
    "#transposing arrays\n",
    "arr_2d = np.array([[1, 2], [3, 4]])\n",
    "transposed_arr = arr_2d.T\n",
    "print(transposed_arr)"
   ]
  },
  {
   "cell_type": "code",
   "execution_count": 37,
   "id": "39c04b73-4d65-4cb3-8e9d-d6872bc4435d",
   "metadata": {},
   "outputs": [
    {
     "name": "stdout",
     "output_type": "stream",
     "text": [
      "[[1]\n",
      " [2]\n",
      " [3]]\n",
      "[1 2 3]\n"
     ]
    }
   ],
   "source": [
    "#adding or removing dimensions\n",
    "arr = np.array([1, 2, 3])\n",
    "arr_2d = arr[:, np.newaxis]\n",
    "print(arr_2d)\n",
    "arr_squeezed = np.array([[[1], [2], [3]]])\n",
    "arr_squeezed = np.squeeze(arr_squeezed)\n",
    "print(arr_squeezed)"
   ]
  },
  {
   "cell_type": "code",
   "execution_count": 39,
   "id": "59921a75-8eba-4779-9d24-701ebf0139f4",
   "metadata": {},
   "outputs": [
    {
     "name": "stdout",
     "output_type": "stream",
     "text": [
      "15 3.0 120\n"
     ]
    }
   ],
   "source": [
    "#aggregating arrays\n",
    "arr = np.array([1, 2, 3, 4, 5])\n",
    "sum_arr = np.sum(arr)  # Sum of elements\n",
    "mean_arr = np.mean(arr)  # Average of elements\n",
    "prod_arr = np.prod(arr)  # Product of elements\n",
    "print(sum_arr, mean_arr, prod_arr)"
   ]
  },
  {
   "cell_type": "code",
   "execution_count": 41,
   "id": "f9126561-c264-4180-b6bf-92c556290397",
   "metadata": {},
   "outputs": [
    {
     "name": "stdout",
     "output_type": "stream",
     "text": [
      "1 6 [1 2 3] [3 6]\n"
     ]
    }
   ],
   "source": [
    "#maximum and minimum\n",
    "arr_2d = np.array([[1, 2, 3], [4, 5, 6]])\n",
    "min_val = np.min(arr_2d)\n",
    "max_val = np.max(arr_2d)\n",
    "min_val_axis0 = np.min(arr_2d, axis=0)\n",
    "max_val_axis1 = np.max(arr_2d, axis=1) \n",
    "print(min_val, max_val, min_val_axis0, max_val_axis1)"
   ]
  },
  {
   "cell_type": "code",
   "execution_count": 43,
   "id": "ce5f0141-3214-42c8-b362-7552ba87b58b",
   "metadata": {},
   "outputs": [
    {
     "name": "stdout",
     "output_type": "stream",
     "text": [
      "[1 2 3 4 5 6]\n",
      "[[1 2]\n",
      " [3 4]\n",
      " [5 6]\n",
      " [7 8]]\n"
     ]
    }
   ],
   "source": [
    "#combining arrays\n",
    "arr1 = np.array([1, 2, 3])\n",
    "arr2 = np.array([4, 5, 6])\n",
    "\n",
    "concat_arr = np.concatenate([arr1, arr2]) \n",
    "print(concat_arr)\n",
    "\n",
    "arr_2d_1 = np.array([[1, 2], [3, 4]])\n",
    "arr_2d_2 = np.array([[5, 6], [7, 8]])\n",
    "\n",
    "concat_2d = np.concatenate([arr_2d_1, arr_2d_2], axis=0)\n",
    "print(concat_2d)"
   ]
  },
  {
   "cell_type": "code",
   "execution_count": 45,
   "id": "8b26dd4c-5273-4a48-9695-e03865200044",
   "metadata": {},
   "outputs": [
    {
     "name": "stdout",
     "output_type": "stream",
     "text": [
      "[[1 2 3]\n",
      " [4 5 6]]\n",
      "[1 2 3 4 5 6]\n"
     ]
    }
   ],
   "source": [
    "#stacking arrays\n",
    "arr1 = np.array([1, 2, 3])\n",
    "arr2 = np.array([4, 5, 6])\n",
    "\n",
    "vstack_arr = np.vstack([arr1, arr2])\n",
    "hstack_arr = np.hstack([arr1, arr2])\n",
    "print(vstack_arr)\n",
    "print(hstack_arr)"
   ]
  },
  {
   "cell_type": "code",
   "execution_count": 47,
   "id": "1d46fd24-14e1-41e2-b05b-a6fda26b7ff6",
   "metadata": {},
   "outputs": [
    {
     "name": "stdout",
     "output_type": "stream",
     "text": [
      "[array([1, 2]), array([3, 4]), array([5, 6])]\n",
      "[array([[1, 2, 3]]), array([[4, 5, 6]]), array([[7, 8, 9]])]\n"
     ]
    }
   ],
   "source": [
    "#splitting arays\n",
    "arr = np.array([1, 2, 3, 4, 5, 6])\n",
    "split_arr = np.split(arr, 3)  # Split into 3 sub-arrays\n",
    "print(split_arr)\n",
    "arr_2d = np.array([[1, 2, 3], [4, 5, 6], [7, 8, 9]])\n",
    "vsplit_arr = np.vsplit(arr_2d, 3)  # Split 2D array vertically\n",
    "print(vsplit_arr)"
   ]
  },
  {
   "cell_type": "code",
   "execution_count": 49,
   "id": "b52df0bc-f78e-43aa-9c4b-707cd0e454b2",
   "metadata": {},
   "outputs": [
    {
     "name": "stdout",
     "output_type": "stream",
     "text": [
      "[[11 12 13]\n",
      " [21 22 23]\n",
      " [31 32 33]]\n"
     ]
    }
   ],
   "source": [
    "#broadcasting\n",
    "arr1 = np.array([1, 2, 3])\n",
    "arr2 = np.array([[10], [20], [30]])\n",
    "\n",
    "broadcasted_arr = arr1 + arr2\n",
    "print(broadcasted_arr)"
   ]
  },
  {
   "cell_type": "code",
   "execution_count": 3,
   "id": "4e71a096-e9b9-4556-95c8-23cb28e5d99b",
   "metadata": {},
   "outputs": [
    {
     "name": "stdout",
     "output_type": "stream",
     "text": [
      "[5, 7, 9]\n"
     ]
    }
   ],
   "source": [
    "#3 vectorization\n",
    "import numpy as np\n",
    "A = np.array([1, 2, 3])\n",
    "B = np.array([4, 5, 6])\n",
    "result = []\n",
    "for i in range(len(A)):\n",
    "    result.append(A[i] + B[i])\n",
    "print(result)"
   ]
  },
  {
   "cell_type": "code",
   "execution_count": 5,
   "id": "59f49463-be06-4a2b-927d-5c38f5842374",
   "metadata": {},
   "outputs": [
    {
     "name": "stdout",
     "output_type": "stream",
     "text": [
      "[[ 2  3  4]\n",
      " [ 5  6  7]\n",
      " [ 8  9 10]\n",
      " [11 12 13]]\n"
     ]
    }
   ],
   "source": [
    "#combining broadcasting and vectorization\n",
    "import numpy as np\n",
    "matrix = np.array([[1, 2, 3], [4, 5, 6], [7, 8, 9], [10, 11, 12]])\n",
    "vector = np.array([1, 1, 1])\n",
    "result = matrix + vector\n",
    "print(result)"
   ]
  },
  {
   "cell_type": "code",
   "execution_count": null,
   "id": "eb4698ec-38c6-419e-9165-f2d235c8471c",
   "metadata": {},
   "outputs": [],
   "source": []
  }
 ],
 "metadata": {
  "kernelspec": {
   "display_name": "Python 3 (ipykernel)",
   "language": "python",
   "name": "python3"
  },
  "language_info": {
   "codemirror_mode": {
    "name": "ipython",
    "version": 3
   },
   "file_extension": ".py",
   "mimetype": "text/x-python",
   "name": "python",
   "nbconvert_exporter": "python",
   "pygments_lexer": "ipython3",
   "version": "3.12.4"
  }
 },
 "nbformat": 4,
 "nbformat_minor": 5
}
