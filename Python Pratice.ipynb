{
 "cells": [
  {
   "cell_type": "code",
   "execution_count": 1,
   "id": "e6610ec5-22c5-43b9-82ea-509b3a68378a",
   "metadata": {},
   "outputs": [
    {
     "name": "stdout",
     "output_type": "stream",
     "text": [
      "The total cost for 10 pencils is $20.\n"
     ]
    }
   ],
   "source": [
    "#Basic Arithmetic with Variables\n",
    "def total_cost_of_pencils(x):\n",
    "    price_per_pencil = 2\n",
    "    total_cost = price_per_pencil * x\n",
    "    return total_cost\n",
    "x = 10\n",
    "cost = total_cost_of_pencils(x)\n",
    "print(f\"The total cost for {x} pencils is ${cost}.\")"
   ]
  },
  {
   "cell_type": "code",
   "execution_count": 3,
   "id": "81cddd57-d428-4fda-b197-46ce08b4a051",
   "metadata": {},
   "outputs": [
    {
     "name": "stdout",
     "output_type": "stream",
     "text": [
      "Sarah has 21 apples when Tom has 8 apples.\n"
     ]
    }
   ],
   "source": [
    "#solving for a variable\n",
    "def sarahs_apples(t):\n",
    "    return 2 * t + 5\n",
    "t = 8\n",
    "sarah_apples = sarahs_apples(t)\n",
    "print(f\"Sarah has {sarah_apples} apples when Tom has {t} apples.\")"
   ]
  },
  {
   "cell_type": "code",
   "execution_count": 5,
   "id": "597dd445-0ae9-4d45-ac05-11ebd0822c9e",
   "metadata": {},
   "outputs": [
    {
     "name": "stdout",
     "output_type": "stream",
     "text": [
      "The total cost for 3 days and 150 miles is $112.50.\n"
     ]
    }
   ],
   "source": [
    "#multi step problem\n",
    "def car_rental_cost(d, m):\n",
    "    base_fee_per_day = 30\n",
    "    fee_per_mile = 0.15\n",
    "    total_cost = base_fee_per_day * d + fee_per_mile * m\n",
    "    return total_cost\n",
    "d = 3\n",
    "m = 150\n",
    "cost = car_rental_cost(d, m)\n",
    "print(f\"The total cost for {d} days and {m} miles is ${cost:.2f}.\")"
   ]
  },
  {
   "cell_type": "code",
   "execution_count": 7,
   "id": "1700fa20-f5bc-4377-85d9-53674965e5d0",
   "metadata": {},
   "outputs": [
    {
     "name": "stdout",
     "output_type": "stream",
     "text": [
      "The first integer is 13, and the integers are 13, 14, 15.\n"
     ]
    }
   ],
   "source": [
    "#solving an equation\n",
    "def find_consecutive_integers(sum_value):\n",
    "    x = (sum_value - 3) // 3\n",
    "    return x\n",
    "sum_value = 42\n",
    "first_integer = find_consecutive_integers(sum_value)\n",
    "print(f\"The first integer is {first_integer}, and the integers are {first_integer}, {first_integer + 1}, {first_integer + 2}.\")"
   ]
  },
  {
   "cell_type": "code",
   "execution_count": 9,
   "id": "8d0482b2-a70c-4990-853b-039e86a91003",
   "metadata": {},
   "outputs": [
    {
     "name": "stdout",
     "output_type": "stream",
     "text": [
      "Hello World\n",
      "PYTHON PROGRAMMING\n",
      "Python programming\n",
      "Java programming\n"
     ]
    }
   ],
   "source": [
    "#2 Manipulating strings\n",
    "str1 = \"Hello\"\n",
    "str2 = \"World\"\n",
    "result = str1 + \" \" + str2 \n",
    "print(result)\n",
    "str3 = \"python programming\"\n",
    "print(str3.upper())\n",
    "print(str3.capitalize())\n",
    "print(str3.replace(\"python\", \"Java\"))"
   ]
  },
  {
   "cell_type": "code",
   "execution_count": 15,
   "id": "88dbb592-df03-4a47-b40f-bb0d01d32f0f",
   "metadata": {},
   "outputs": [
    {
     "name": "stdout",
     "output_type": "stream",
     "text": [
      "Addition: 8\n",
      "Subtraction: 2\n",
      "Multiplication: 15\n",
      "Division: 1.6666666666666667\n",
      "Floor Division: 1\n",
      "Modulo: 2\n",
      "Exponentiation: 125\n",
      "String to Integer: 123\n",
      "String to Float: 123.0\n",
      "Integer to Float: 7.0\n",
      "Absolute Value: 5\n",
      "Rounded Value: 3.14\n",
      "Max Value: 5\n",
      "Min Value: 1\n"
     ]
    }
   ],
   "source": [
    "#numeric manipulation\n",
    "a = 5\n",
    "b = 3\n",
    "result_add = a + b\n",
    "result_sub = a - b\n",
    "result_mul = a * b\n",
    "result_div = a / b\n",
    "result_floor = a // b\n",
    "result_mod = a % b\n",
    "result_exp = a ** b\n",
    "\n",
    "print(\"Addition:\", result_add)\n",
    "print(\"Subtraction:\", result_sub)\n",
    "print(\"Multiplication:\", result_mul)\n",
    "print(\"Division:\", result_div)\n",
    "print(\"Floor Division:\", result_floor)\n",
    "print(\"Modulo:\", result_mod)\n",
    "print(\"Exponentiation:\", result_exp)\n",
    "\n",
    "num_str = \"123\"\n",
    "num_int = int(num_str)\n",
    "num_float = float(num_str)\n",
    "\n",
    "print(\"String to Integer:\", num_int)\n",
    "print(\"String to Float:\", num_float)\n",
    "\n",
    "a = 7\n",
    "result = float(a)\n",
    "print(\"Integer to Float:\", result)\n",
    "\n",
    "result = abs(-5)\n",
    "print(\"Absolute Value:\", result)\n",
    "\n",
    "result = round(3.14159, 2)\n",
    "print(\"Rounded Value:\", result)\n",
    "\n",
    "result_max = max(3, 5, 1)\n",
    "result_min = min(3, 5, 1)\n",
    "print(\"Max Value:\", result_max)\n",
    "print(\"Min Value:\", result_min)\n"
   ]
  },
  {
   "cell_type": "code",
   "execution_count": 23,
   "id": "6eaed594-ce6d-4b14-a3e6-983b8aa404c1",
   "metadata": {},
   "outputs": [
    {
     "name": "stdout",
     "output_type": "stream",
     "text": [
      "AND Operation: False\n",
      "OR Operation: True\n",
      "NOT Operation: False\n",
      "Equal (==): False\n",
      "Not Equal (!=): True\n",
      "Greater Than (>): True\n"
     ]
    }
   ],
   "source": [
    "#boolean manipulation\n",
    "a = True\n",
    "b = False\n",
    "result_and = a and b\n",
    "result_or = a or b\n",
    "result_not = not a\n",
    "\n",
    "print(\"AND Operation:\", result_and)\n",
    "print(\"OR Operation:\", result_or)\n",
    "print(\"NOT Operation:\", result_not)\n",
    "#\n",
    "a = 5\n",
    "b = 3\n",
    "result_eq = a == b\n",
    "result_ne = a != b\n",
    "result_gt = a > b\n",
    "result_lt = a < b\n",
    "\n",
    "print(\"Equal (==):\", result_eq)\n",
    "print(\"Not Equal (!=):\", result_ne)\n",
    "print(\"Greater Than (>):\", result_gt)"
   ]
  },
  {
   "cell_type": "code",
   "execution_count": 25,
   "id": "41734b96-f4fa-401d-ada8-78563c9d6295",
   "metadata": {},
   "outputs": [
    {
     "name": "stdout",
     "output_type": "stream",
     "text": [
      "Tuple Concatenation: (1, 2, 3, 4)\n",
      "Sliced Tuple: (2, 3)\n",
      "Length of Tuple: 4\n",
      "Max Value in Tuple: 4\n"
     ]
    }
   ],
   "source": [
    "#tuple manipulation\n",
    "tuple1 = (1, 2)\n",
    "tuple2 = (3, 4)\n",
    "result = tuple1 + tuple2\n",
    "print(\"Tuple Concatenation:\", result)\n",
    "\n",
    "tuple1 = (1, 2, 3, 4)\n",
    "result = tuple1[1:3]\n",
    "print(\"Sliced Tuple:\", result)\n",
    "\n",
    "result_len = len(tuple1)\n",
    "print(\"Length of Tuple:\", result_len)\n",
    "\n",
    "result_max = max(tuple1)\n",
    "print(\"Max Value in Tuple:\", result_max)"
   ]
  },
  {
   "cell_type": "code",
   "execution_count": 27,
   "id": "85c9f498-dd06-4d9a-b05c-b1a3ab78318b",
   "metadata": {},
   "outputs": [
    {
     "name": "stdout",
     "output_type": "stream",
     "text": [
      "Dictionary Keys: dict_keys(['a', 'b'])\n",
      "Dictionary Values: dict_values([1, 2])\n",
      "Value of key 'a': 1\n",
      "Updated Dictionary: {'a': 1, 'b': 2, 'c': 3}\n"
     ]
    }
   ],
   "source": [
    "#dictonary manipulation\n",
    "dict1 = {\"a\": 1, \"b\": 2}\n",
    "\n",
    "result = dict1.keys()\n",
    "print(\"Dictionary Keys:\", result)\n",
    "\n",
    "result = dict1.values()\n",
    "print(\"Dictionary Values:\", result)\n",
    "\n",
    "result = dict1.get(\"a\")\n",
    "print(\"Value of key 'a':\", result)\n",
    "\n",
    "dict1.update({\"c\": 3})\n",
    "print(\"Updated Dictionary:\", dict1)"
   ]
  },
  {
   "cell_type": "code",
   "execution_count": 29,
   "id": "3b87f6f1-09fc-4139-8de7-98a078a1c0e2",
   "metadata": {},
   "outputs": [
    {
     "name": "stdout",
     "output_type": "stream",
     "text": [
      "You are eligible to vote.\n"
     ]
    }
   ],
   "source": [
    "#3 branching\n",
    "age = 20\n",
    "\n",
    "if age >= 18:\n",
    "    print(\"You are eligible to vote.\")\n",
    "else:\n",
    "    print(\"You are not eligible to vote.\")"
   ]
  },
  {
   "cell_type": "code",
   "execution_count": 31,
   "id": "da87133e-986a-43ce-84fb-3c543448cceb",
   "metadata": {},
   "outputs": [
    {
     "name": "stdout",
     "output_type": "stream",
     "text": [
      "The total sum is: 15\n"
     ]
    }
   ],
   "source": [
    "#iteration\n",
    "total_sum = 0\n",
    "for number in range(1, 6):\n",
    "    total_sum += number\n",
    "\n",
    "print(\"The total sum is:\", total_sum)"
   ]
  },
  {
   "cell_type": "code",
   "execution_count": 33,
   "id": "d5ed535d-866f-44be-bccd-3c597baa0141",
   "metadata": {},
   "outputs": [
    {
     "name": "stdout",
     "output_type": "stream",
     "text": [
      "Age 16: You are not eligible to vote.\n",
      "Age 20: You are eligible to vote.\n",
      "Age 17: You are not eligible to vote.\n",
      "Age 25: You are eligible to vote.\n",
      "Age 14: You are not eligible to vote.\n"
     ]
    }
   ],
   "source": [
    "#combining branching and iteration\n",
    "ages = [16, 20, 17, 25, 14]\n",
    "for age in ages:\n",
    "    if age >= 18:\n",
    "        print(f\"Age {age}: You are eligible to vote.\")\n",
    "    else:\n",
    "        print(f\"Age {age}: You are not eligible to vote.\")"
   ]
  },
  {
   "cell_type": "code",
   "execution_count": 35,
   "id": "9e38396f-4ddc-4bb3-94a6-098e87d1a9cb",
   "metadata": {},
   "outputs": [
    {
     "name": "stdout",
     "output_type": "stream",
     "text": [
      "There are 4 even numbers in the list.\n"
     ]
    }
   ],
   "source": [
    "# counting even number\n",
    "numbers = [12, 5, 8, 7, 4, 10, 3]\n",
    "even_count = 0\n",
    "for num in numbers:\n",
    "    if num % 2 == 0:\n",
    "        even_count += 1\n",
    "print(f\"There are {even_count} even numbers in the list.\")"
   ]
  },
  {
   "cell_type": "code",
   "execution_count": null,
   "id": "ab1b7e3b-abae-4bb1-968e-8446bca440a1",
   "metadata": {},
   "outputs": [],
   "source": []
  }
 ],
 "metadata": {
  "kernelspec": {
   "display_name": "Python 3 (ipykernel)",
   "language": "python",
   "name": "python3"
  },
  "language_info": {
   "codemirror_mode": {
    "name": "ipython",
    "version": 3
   },
   "file_extension": ".py",
   "mimetype": "text/x-python",
   "name": "python",
   "nbconvert_exporter": "python",
   "pygments_lexer": "ipython3",
   "version": "3.12.4"
  }
 },
 "nbformat": 4,
 "nbformat_minor": 5
}
