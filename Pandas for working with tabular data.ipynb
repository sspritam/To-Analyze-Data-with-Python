{
 "cells": [
  {
   "cell_type": "code",
   "execution_count": 13,
   "id": "54d4dde7-5985-4518-aa9d-651885b8c4ef",
   "metadata": {},
   "outputs": [
    {
     "name": "stdout",
     "output_type": "stream",
     "text": [
      "     A    B     C\n",
      "0  1.0  5.0   9.0\n",
      "1  2.0  NaN  10.0\n",
      "2  NaN  7.0  11.0\n",
      "3  4.0  8.0   NaN\n"
     ]
    }
   ],
   "source": [
    "#3creating a data frames\n",
    "import pandas as pd\n",
    "data = {\n",
    "    'A': [1, 2, None, 4],\n",
    "    'B': [5, None, 7, 8],\n",
    "    'C': [9, 10, 11, None]\n",
    "}\n",
    "df = pd.DataFrame(data)\n",
    "print(df)"
   ]
  },
  {
   "cell_type": "code",
   "execution_count": 15,
   "id": "311ec568-8726-451c-b140-cb78f61a4572",
   "metadata": {},
   "outputs": [
    {
     "name": "stdout",
     "output_type": "stream",
     "text": [
      "A    1.0\n",
      "B    5.0\n",
      "C    9.0\n",
      "Name: 0, dtype: float64\n",
      "     A    B     C\n",
      "0  1.0  5.0   9.0\n",
      "1  2.0  NaN  10.0\n",
      "     A    B     C\n",
      "0  1.0  5.0   9.0\n",
      "1  2.0  NaN  10.0\n",
      "3  4.0  8.0   NaN\n"
     ]
    }
   ],
   "source": [
    "#Manipulating rows\n",
    "#selecting rows\n",
    "row_1 = df.iloc[0]\n",
    "rows_1_2 = df.iloc[0:2]\n",
    "rows_where_A_is_not_null = df[df['A'].notnull()]\n",
    "print(row_1)\n",
    "print(rows_1_2)\n",
    "print(rows_where_A_is_not_null)"
   ]
  },
  {
   "cell_type": "code",
   "execution_count": 29,
   "id": "dbc9bb49-47ea-4c93-8304-b4214208babf",
   "metadata": {},
   "outputs": [
    {
     "name": "stdout",
     "output_type": "stream",
     "text": [
      "   A  B  C\n",
      "0  1  4  7\n",
      "1  2  5  8\n",
      "2  3  6  9\n",
      "3  5  6  7\n"
     ]
    }
   ],
   "source": [
    "#adding rows\n",
    "import pandas as pd\n",
    "df = pd.DataFrame({\n",
    "    'A': [1, 2, 3],\n",
    "    'B': [4, 5, 6],\n",
    "    'C': [7, 8, 9]\n",
    "})\n",
    "new_row = {'A': 5, 'B': 6, 'C': 7}\n",
    "new_row_df = pd.DataFrame([new_row])\n",
    "df = pd.concat([df, new_row_df], ignore_index=True)\n",
    "print(df)"
   ]
  },
  {
   "cell_type": "code",
   "execution_count": 43,
   "id": "f9ce1c49-0cfc-4df6-a0ef-dd1cb36cedaa",
   "metadata": {},
   "outputs": [
    {
     "name": "stdout",
     "output_type": "stream",
     "text": [
      "Original DataFrame:\n",
      "     A    B     C\n",
      "0  1.0  NaN   9.0\n",
      "1  2.0  5.0  10.0\n",
      "2  NaN  6.0  11.0\n",
      "3  4.0  7.0   NaN\n",
      "     A    B     C\n",
      "1  2.0  5.0  10.0\n",
      "3  4.0  7.0   NaN\n"
     ]
    }
   ],
   "source": [
    "#droping rows\n",
    "import pandas as pd\n",
    "df = pd.DataFrame({\n",
    "    'A': [1, 2, None, 4],\n",
    "    'B': [None, 5, 6, 7],\n",
    "    'C': [9, 10, 11, None]\n",
    "})\n",
    "print(\"Original DataFrame:\")\n",
    "print(df)\n",
    "df = df.drop(0)\n",
    "df = df.dropna(subset=['A'])\n",
    "print(df)"
   ]
  },
  {
   "cell_type": "code",
   "execution_count": 47,
   "id": "f0ff6898-0e93-43a5-ab25-745e20921f1e",
   "metadata": {},
   "outputs": [
    {
     "name": "stdout",
     "output_type": "stream",
     "text": [
      "Single column 'A':\n",
      "0    1.0\n",
      "1    2.0\n",
      "2    NaN\n",
      "3    4.0\n",
      "Name: A, dtype: float64\n",
      "     A    B\n",
      "0  1.0  NaN\n",
      "1  2.0  5.0\n",
      "2  NaN  6.0\n",
      "3  4.0  7.0\n"
     ]
    }
   ],
   "source": [
    "#Manipulating columns\n",
    "#selecting columns\n",
    "import pandas as pd\n",
    "df = pd.DataFrame({\n",
    "    'A': [1, 2, None, 4],\n",
    "    'B': [None, 5, 6, 7],\n",
    "    'C': [9, 10, 11, None]\n",
    "})\n",
    "column_A = df['A']\n",
    "print(\"Single column 'A':\")\n",
    "print(column_A)\n",
    "columns_AB = df[['A', 'B']]\n",
    "print(columns_AB)"
   ]
  },
  {
   "cell_type": "code",
   "execution_count": 51,
   "id": "941fb838-bd8f-47f5-994f-288e26f09b4f",
   "metadata": {},
   "outputs": [
    {
     "name": "stdout",
     "output_type": "stream",
     "text": [
      "Original DataFrame:\n",
      "     A    B     C\n",
      "0  1.0  NaN   9.0\n",
      "1  2.0  5.0  10.0\n",
      "2  NaN  6.0  11.0\n",
      "3  4.0  7.0   NaN\n",
      "\n",
      "DataFrame after adding columns 'D' and 'E':\n",
      "     A    B     C   D     E\n",
      "0  1.0  NaN   9.0  10   NaN\n",
      "1  2.0  5.0  10.0  10   7.0\n",
      "2  NaN  6.0  11.0  10   NaN\n",
      "3  4.0  7.0   NaN  10  11.0\n"
     ]
    }
   ],
   "source": [
    "#adding columns\n",
    "import pandas as pd\n",
    "df = pd.DataFrame({\n",
    "    'A': [1, 2, None, 4],\n",
    "    'B': [None, 5, 6, 7],\n",
    "    'C': [9, 10, 11, None]\n",
    "})\n",
    "print(\"Original DataFrame:\")\n",
    "print(df)\n",
    "df['D'] = 10\n",
    "df['E'] = df['A'] + df['B']\n",
    "print(\"\\nDataFrame after adding columns 'D' and 'E':\")\n",
    "print(df)"
   ]
  },
  {
   "cell_type": "code",
   "execution_count": 53,
   "id": "c91033b8-85fe-4e8b-869b-274d1782b59c",
   "metadata": {},
   "outputs": [
    {
     "name": "stdout",
     "output_type": "stream",
     "text": [
      "Original DataFrame:\n",
      "     A    B     C   D\n",
      "0  1.0  NaN   9.0  10\n",
      "1  2.0  5.0  10.0  10\n",
      "2  NaN  6.0  11.0  10\n",
      "3  4.0  7.0   NaN  10\n",
      "     A\n",
      "0  1.0\n",
      "1  2.0\n",
      "2  NaN\n",
      "3  4.0\n"
     ]
    }
   ],
   "source": [
    "#droping columns\n",
    "import pandas as pd\n",
    "df = pd.DataFrame({\n",
    "    'A': [1, 2, None, 4],\n",
    "    'B': [None, 5, 6, 7],\n",
    "    'C': [9, 10, 11, None],\n",
    "    'D': [10, 10, 10, 10]\n",
    "})\n",
    "print(\"Original DataFrame:\")\n",
    "print(df)\n",
    "df = df.drop('D', axis=1)\n",
    "df = df.drop(['B', 'C'], axis=1)\n",
    "print(df)"
   ]
  },
  {
   "cell_type": "code",
   "execution_count": 57,
   "id": "0419857e-45c6-45ac-ae33-f9dc41376ee4",
   "metadata": {},
   "outputs": [
    {
     "name": "stdout",
     "output_type": "stream",
     "text": [
      "Original DataFrame:\n",
      "   A  B  C\n",
      "0  1  4  7\n",
      "1  2  5  8\n",
      "2  3  6  9\n",
      "   Column_A  Column_B  C\n",
      "0         1         4  7\n",
      "1         2         5  8\n",
      "2         3         6  9\n"
     ]
    }
   ],
   "source": [
    "#renaming columns\n",
    "import pandas as pd\n",
    "df = pd.DataFrame({\n",
    "    'A': [1, 2, 3],\n",
    "    'B': [4, 5, 6],\n",
    "    'C': [7, 8, 9]\n",
    "})\n",
    "print(\"Original DataFrame:\")\n",
    "print(df)\n",
    "df = df.rename(columns={'A': 'Column_A', 'B': 'Column_B'})\n",
    "print(df)"
   ]
  },
  {
   "cell_type": "code",
   "execution_count": 61,
   "id": "c2b0cf6f-bec5-41a2-9072-cdb449860b26",
   "metadata": {},
   "outputs": [
    {
     "name": "stdout",
     "output_type": "stream",
     "text": [
      "Current column names:\n",
      "Index(['Column_A', 'Column_B', 'C'], dtype='object')\n",
      "\n",
      "Checking for NaN values in 'Column_A':\n",
      "0    False\n",
      "1     True\n",
      "2    False\n",
      "Name: Column_A, dtype: bool\n",
      "   Column_A  Column_B      C\n",
      "0     False     False   True\n",
      "1      True     False  False\n",
      "2     False      True  False\n"
     ]
    }
   ],
   "source": [
    "# handling empty (NAN) values\n",
    "import pandas as pd\n",
    "df = pd.DataFrame({\n",
    "    'A': [1, None, 3],\n",
    "    'B': [4, 5, None],\n",
    "    'C': [None, 8, 9]\n",
    "})\n",
    "df = df.rename(columns={'A': 'Column_A', 'B': 'Column_B'})\n",
    "print(\"Current column names:\")\n",
    "print(df.columns)\n",
    "print(df['Column_A'].isnull())\n",
    "print(df.isnull())"
   ]
  },
  {
   "cell_type": "code",
   "execution_count": 71,
   "id": "88e9653a-8068-4a2f-8d80-00611e3cc867",
   "metadata": {},
   "outputs": [
    {
     "name": "stdout",
     "output_type": "stream",
     "text": [
      "Index(['Column_A', 'Column_B', 'C'], dtype='object')\n",
      "   Column_A  Column_B    C\n",
      "0       1.0       4.0  NaN\n",
      "1       NaN       5.0  8.0\n",
      "2       3.0       NaN  9.0\n"
     ]
    }
   ],
   "source": [
    "print(df.columns)\n",
    "print(df.head())\n",
    "df['Column_A'] = df['Column_A'].fillna(0)"
   ]
  },
  {
   "cell_type": "code",
   "execution_count": 75,
   "id": "a066bdee-fd3f-4541-b6b9-6607723dfdd2",
   "metadata": {},
   "outputs": [
    {
     "name": "stdout",
     "output_type": "stream",
     "text": [
      "Current column names:\n",
      "Index(['A', 'B', 'C'], dtype='object')\n",
      "\n",
      "DataFrame:\n",
      "     A    B    C\n",
      "0  1.0  NaN  5.0\n",
      "1  NaN  2.0  NaN\n",
      "2  3.0  3.0  7.0\n",
      "3  NaN  4.0  8.0\n"
     ]
    }
   ],
   "source": [
    "#Filling NAN Values\n",
    "import pandas as pd\n",
    "df = pd.DataFrame({\n",
    "    'A': [1, None, 3, None],\n",
    "    'B': [None, 2, 3, 4],\n",
    "    'C': [5, None, 7, 8]\n",
    "})\n",
    "print(\"Current column names:\")\n",
    "print(df.columns)\n",
    "print(\"\\nDataFrame:\")\n",
    "print(df)\n",
    "try:\n",
    "    df['A'] = df['A'].fillna(0)\n",
    "except KeyError as e:\n",
    "    print(f\"KeyError: {e}\")\n",
    "    print(\"The column 'A' does not exist. Please check the column names.\")"
   ]
  },
  {
   "cell_type": "code",
   "execution_count": 77,
   "id": "1a4f21c1-b2ae-4641-a54b-4e09ad5a2ce9",
   "metadata": {},
   "outputs": [
    {
     "name": "stdout",
     "output_type": "stream",
     "text": [
      "Original DataFrame:\n",
      "   A  B  C\n",
      "0  3  5  a\n",
      "1  1  2  b\n",
      "2  4  1  c\n",
      "3  2  4  d\n",
      "   A  B  C\n",
      "1  1  2  b\n",
      "3  2  4  d\n",
      "0  3  5  a\n",
      "2  4  1  c\n"
     ]
    },
    {
     "data": {
      "text/html": [
       "<div>\n",
       "<style scoped>\n",
       "    .dataframe tbody tr th:only-of-type {\n",
       "        vertical-align: middle;\n",
       "    }\n",
       "\n",
       "    .dataframe tbody tr th {\n",
       "        vertical-align: top;\n",
       "    }\n",
       "\n",
       "    .dataframe thead th {\n",
       "        text-align: right;\n",
       "    }\n",
       "</style>\n",
       "<table border=\"1\" class=\"dataframe\">\n",
       "  <thead>\n",
       "    <tr style=\"text-align: right;\">\n",
       "      <th></th>\n",
       "      <th>A</th>\n",
       "      <th>B</th>\n",
       "      <th>C</th>\n",
       "    </tr>\n",
       "  </thead>\n",
       "  <tbody>\n",
       "    <tr>\n",
       "      <th>0</th>\n",
       "      <td>3</td>\n",
       "      <td>5</td>\n",
       "      <td>a</td>\n",
       "    </tr>\n",
       "    <tr>\n",
       "      <th>1</th>\n",
       "      <td>1</td>\n",
       "      <td>2</td>\n",
       "      <td>b</td>\n",
       "    </tr>\n",
       "    <tr>\n",
       "      <th>2</th>\n",
       "      <td>4</td>\n",
       "      <td>1</td>\n",
       "      <td>c</td>\n",
       "    </tr>\n",
       "    <tr>\n",
       "      <th>3</th>\n",
       "      <td>2</td>\n",
       "      <td>4</td>\n",
       "      <td>d</td>\n",
       "    </tr>\n",
       "  </tbody>\n",
       "</table>\n",
       "</div>"
      ],
      "text/plain": [
       "   A  B  C\n",
       "0  3  5  a\n",
       "1  1  2  b\n",
       "2  4  1  c\n",
       "3  2  4  d"
      ]
     },
     "execution_count": 77,
     "metadata": {},
     "output_type": "execute_result"
    }
   ],
   "source": [
    "df = pd.DataFrame({\n",
    "    'A': [3, 1, 4, 2],\n",
    "    'B': [5, 2, 1, 4],\n",
    "    'C': ['a', 'b', 'c', 'd']\n",
    "})\n",
    "print(\"Original DataFrame:\")\n",
    "print(df)\n",
    "df_sorted_by_A = df.sort_values(by='A')\n",
    "print(df_sorted_by_A)\n",
    "df"
   ]
  },
  {
   "cell_type": "code",
   "execution_count": null,
   "id": "7e3ac7c9-e418-44a7-b8ff-14ac0a62fd55",
   "metadata": {},
   "outputs": [],
   "source": []
  }
 ],
 "metadata": {
  "kernelspec": {
   "display_name": "Python 3 (ipykernel)",
   "language": "python",
   "name": "python3"
  },
  "language_info": {
   "codemirror_mode": {
    "name": "ipython",
    "version": 3
   },
   "file_extension": ".py",
   "mimetype": "text/x-python",
   "name": "python",
   "nbconvert_exporter": "python",
   "pygments_lexer": "ipython3",
   "version": "3.12.4"
  }
 },
 "nbformat": 4,
 "nbformat_minor": 5
}
